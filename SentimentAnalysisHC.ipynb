{
 "cells": [
  {
   "cell_type": "markdown",
   "id": "dbb2a1ec-692e-4693-b873-8ec6c3cb6270",
   "metadata": {},
   "source": [
    "# Amazon Reviews"
   ]
  },
  {
   "cell_type": "code",
   "execution_count": 1,
   "id": "4e104497-5b6f-4048-beb6-d46eb645c48e",
   "metadata": {},
   "outputs": [],
   "source": [
    "# Lets use the custom function to load all the data with autoreload option\n",
    "\n",
    "%load_ext autoreload\n",
    "%autoreload 2\n",
    "\n",
    "import custom_function as fn"
   ]
  },
  {
   "cell_type": "code",
   "execution_count": 2,
   "id": "b15e2ad7-38c5-4a19-9b46-83983987d823",
   "metadata": {},
   "outputs": [],
   "source": [
    "# load imports\n",
    "import matplotlib.pyplot as plt\n",
    "import missingno\n",
    "import matplotlib as mpl\n",
    "import seaborn as sns\n",
    "import numpy as np\n",
    "import pandas as pd\n",
    "\n",
    "pd.set_option(\"display.max_columns\",50)\n",
    "pd.set_option('display.max_colwidth', 250)"
   ]
  },
  {
   "cell_type": "code",
   "execution_count": 3,
   "id": "38ea0a94-e1f1-4fa6-a032-87f6c2c74976",
   "metadata": {},
   "outputs": [],
   "source": [
    "from wordcloud import WordCloud\n",
    "from wordcloud import STOPWORDS"
   ]
  },
  {
   "cell_type": "code",
   "execution_count": 4,
   "id": "826324e1-34b3-4839-a91b-eced660aa1ee",
   "metadata": {},
   "outputs": [
    {
     "name": "stdout",
     "output_type": "stream",
     "text": [
      "<class 'pandas.core.frame.DataFrame'>\n",
      "RangeIndex: 5003 entries, 0 to 5002\n",
      "Data columns (total 10 columns):\n",
      " #   Column                  Non-Null Count  Dtype  \n",
      "---  ------                  --------------  -----  \n",
      " 0   Id                      5003 non-null   int64  \n",
      " 1   ProductId               5003 non-null   object \n",
      " 2   UserId                  5003 non-null   object \n",
      " 3   ProfileName             5003 non-null   object \n",
      " 4   HelpfulnessNumerator    5003 non-null   int64  \n",
      " 5   HelpfulnessDenominator  5003 non-null   int64  \n",
      " 6   Score                   5001 non-null   float64\n",
      " 7   Time                    5003 non-null   int64  \n",
      " 8   Summary                 5002 non-null   object \n",
      " 9   Text                    5003 non-null   object \n",
      "dtypes: float64(1), int64(4), object(5)\n",
      "memory usage: 391.0+ KB\n"
     ]
    },
    {
     "data": {
      "text/html": [
       "<div>\n",
       "<style scoped>\n",
       "    .dataframe tbody tr th:only-of-type {\n",
       "        vertical-align: middle;\n",
       "    }\n",
       "\n",
       "    .dataframe tbody tr th {\n",
       "        vertical-align: top;\n",
       "    }\n",
       "\n",
       "    .dataframe thead th {\n",
       "        text-align: right;\n",
       "    }\n",
       "</style>\n",
       "<table border=\"1\" class=\"dataframe\">\n",
       "  <thead>\n",
       "    <tr style=\"text-align: right;\">\n",
       "      <th></th>\n",
       "      <th>Id</th>\n",
       "      <th>ProductId</th>\n",
       "      <th>UserId</th>\n",
       "      <th>ProfileName</th>\n",
       "      <th>HelpfulnessNumerator</th>\n",
       "      <th>HelpfulnessDenominator</th>\n",
       "      <th>Score</th>\n",
       "      <th>Time</th>\n",
       "      <th>Summary</th>\n",
       "      <th>Text</th>\n",
       "    </tr>\n",
       "  </thead>\n",
       "  <tbody>\n",
       "    <tr>\n",
       "      <th>0</th>\n",
       "      <td>1</td>\n",
       "      <td>B001E4KFG0</td>\n",
       "      <td>A3SGXH7AUHU8GW</td>\n",
       "      <td>delmartian</td>\n",
       "      <td>1</td>\n",
       "      <td>1</td>\n",
       "      <td>5.0</td>\n",
       "      <td>1303862400</td>\n",
       "      <td>Good Quality Dog Food</td>\n",
       "      <td>I have bought several of the Vitality canned dog food products and have found them all to be of good quality. The product looks more like a stew than a processed meat and it smells better. My Labrador is finicky and she appreciates this product b...</td>\n",
       "    </tr>\n",
       "    <tr>\n",
       "      <th>1</th>\n",
       "      <td>2</td>\n",
       "      <td>B00813GRG4</td>\n",
       "      <td>A1D87F6ZCVE5NK</td>\n",
       "      <td>dll pa</td>\n",
       "      <td>0</td>\n",
       "      <td>0</td>\n",
       "      <td>1.0</td>\n",
       "      <td>1346976000</td>\n",
       "      <td>Not as Advertised</td>\n",
       "      <td>Product arrived labeled as Jumbo Salted Peanuts...the peanuts were actually small sized unsalted. Not sure if this was an error or if the vendor intended to represent the product as \"Jumbo\".</td>\n",
       "    </tr>\n",
       "    <tr>\n",
       "      <th>2</th>\n",
       "      <td>3</td>\n",
       "      <td>B000LQOCH0</td>\n",
       "      <td>ABXLMWJIXXAIN</td>\n",
       "      <td>Natalia Corres \"Natalia Corres\"</td>\n",
       "      <td>1</td>\n",
       "      <td>1</td>\n",
       "      <td>4.0</td>\n",
       "      <td>1219017600</td>\n",
       "      <td>\"Delight\" says it all</td>\n",
       "      <td>This is a confection that has been around a few centuries.  It is a light, pillowy citrus gelatin with nuts - in this case Filberts. And it is cut into tiny squares and then liberally coated with powdered sugar.  And it is a tiny mouthful of heav...</td>\n",
       "    </tr>\n",
       "    <tr>\n",
       "      <th>3</th>\n",
       "      <td>4</td>\n",
       "      <td>B000UA0QIQ</td>\n",
       "      <td>A395BORC6FGVXV</td>\n",
       "      <td>Karl</td>\n",
       "      <td>3</td>\n",
       "      <td>3</td>\n",
       "      <td>2.0</td>\n",
       "      <td>1307923200</td>\n",
       "      <td>Cough Medicine</td>\n",
       "      <td>If you are looking for the secret ingredient in Robitussin I believe I have found it.  I got this in addition to the Root Beer Extract I ordered (which was good) and made some cherry soda.  The flavor is very medicinal.</td>\n",
       "    </tr>\n",
       "    <tr>\n",
       "      <th>4</th>\n",
       "      <td>5</td>\n",
       "      <td>B006K2ZZ7K</td>\n",
       "      <td>A1UQRSCLF8GW1T</td>\n",
       "      <td>Michael D. Bigham \"M. Wassir\"</td>\n",
       "      <td>0</td>\n",
       "      <td>0</td>\n",
       "      <td>5.0</td>\n",
       "      <td>1350777600</td>\n",
       "      <td>Great taffy</td>\n",
       "      <td>Great taffy at a great price.  There was a wide assortment of yummy taffy.  Delivery was very quick.  If your a taffy lover, this is a deal.</td>\n",
       "    </tr>\n",
       "  </tbody>\n",
       "</table>\n",
       "</div>"
      ],
      "text/plain": [
       "   Id   ProductId          UserId                      ProfileName  \\\n",
       "0   1  B001E4KFG0  A3SGXH7AUHU8GW                       delmartian   \n",
       "1   2  B00813GRG4  A1D87F6ZCVE5NK                           dll pa   \n",
       "2   3  B000LQOCH0   ABXLMWJIXXAIN  Natalia Corres \"Natalia Corres\"   \n",
       "3   4  B000UA0QIQ  A395BORC6FGVXV                             Karl   \n",
       "4   5  B006K2ZZ7K  A1UQRSCLF8GW1T    Michael D. Bigham \"M. Wassir\"   \n",
       "\n",
       "   HelpfulnessNumerator  HelpfulnessDenominator  Score        Time  \\\n",
       "0                     1                       1    5.0  1303862400   \n",
       "1                     0                       0    1.0  1346976000   \n",
       "2                     1                       1    4.0  1219017600   \n",
       "3                     3                       3    2.0  1307923200   \n",
       "4                     0                       0    5.0  1350777600   \n",
       "\n",
       "                 Summary  \\\n",
       "0  Good Quality Dog Food   \n",
       "1      Not as Advertised   \n",
       "2  \"Delight\" says it all   \n",
       "3         Cough Medicine   \n",
       "4            Great taffy   \n",
       "\n",
       "                                                                                                                                                                                                                                                        Text  \n",
       "0  I have bought several of the Vitality canned dog food products and have found them all to be of good quality. The product looks more like a stew than a processed meat and it smells better. My Labrador is finicky and she appreciates this product b...  \n",
       "1                                                             Product arrived labeled as Jumbo Salted Peanuts...the peanuts were actually small sized unsalted. Not sure if this was an error or if the vendor intended to represent the product as \"Jumbo\".  \n",
       "2  This is a confection that has been around a few centuries.  It is a light, pillowy citrus gelatin with nuts - in this case Filberts. And it is cut into tiny squares and then liberally coated with powdered sugar.  And it is a tiny mouthful of heav...  \n",
       "3                                If you are looking for the secret ingredient in Robitussin I believe I have found it.  I got this in addition to the Root Beer Extract I ordered (which was good) and made some cherry soda.  The flavor is very medicinal.  \n",
       "4                                                                                                               Great taffy at a great price.  There was a wide assortment of yummy taffy.  Delivery was very quick.  If your a taffy lover, this is a deal.  "
      ]
     },
     "execution_count": 4,
     "metadata": {},
     "output_type": "execute_result"
    }
   ],
   "source": [
    "df = pd.read_csv(\"Data/Reviews.csv\")\n",
    "df.info()\n",
    "df.head()"
   ]
  },
  {
   "cell_type": "code",
   "execution_count": 5,
   "id": "1fae6a61-9c9b-4072-afb7-1e1818354034",
   "metadata": {},
   "outputs": [],
   "source": [
    "df1 = df.isna().sum()\n",
    "\n"
   ]
  },
  {
   "cell_type": "code",
   "execution_count": 6,
   "id": "cceb836a-fa96-471a-b814-014fc430b589",
   "metadata": {},
   "outputs": [
    {
     "data": {
      "text/plain": [
       "Id                        0\n",
       "ProductId                 0\n",
       "UserId                    0\n",
       "ProfileName               0\n",
       "HelpfulnessNumerator      0\n",
       "HelpfulnessDenominator    0\n",
       "Score                     2\n",
       "Time                      0\n",
       "Summary                   1\n",
       "Text                      0\n",
       "dtype: int64"
      ]
     },
     "execution_count": 6,
     "metadata": {},
     "output_type": "execute_result"
    }
   ],
   "source": [
    "df1"
   ]
  },
  {
   "cell_type": "code",
   "execution_count": 7,
   "id": "87bdcf7a-3c4f-46de-9b54-5230c0f19557",
   "metadata": {},
   "outputs": [],
   "source": [
    "df.dropna(inplace =True)"
   ]
  },
  {
   "cell_type": "code",
   "execution_count": 9,
   "id": "ec2b7a1d-445e-4757-85b2-8d3133924137",
   "metadata": {},
   "outputs": [
    {
     "name": "stdout",
     "output_type": "stream",
     "text": [
      "<class 'pandas.core.frame.DataFrame'>\n",
      "Int64Index: 5000 entries, 0 to 5002\n",
      "Data columns (total 10 columns):\n",
      " #   Column                  Non-Null Count  Dtype  \n",
      "---  ------                  --------------  -----  \n",
      " 0   Id                      5000 non-null   int64  \n",
      " 1   ProductId               5000 non-null   object \n",
      " 2   UserId                  5000 non-null   object \n",
      " 3   ProfileName             5000 non-null   object \n",
      " 4   HelpfulnessNumerator    5000 non-null   int64  \n",
      " 5   HelpfulnessDenominator  5000 non-null   int64  \n",
      " 6   Score                   5000 non-null   float64\n",
      " 7   Time                    5000 non-null   int64  \n",
      " 8   Summary                 5000 non-null   object \n",
      " 9   Text                    5000 non-null   object \n",
      "dtypes: float64(1), int64(4), object(5)\n",
      "memory usage: 429.7+ KB\n"
     ]
    }
   ],
   "source": [
    "df.info()"
   ]
  },
  {
   "cell_type": "code",
   "execution_count": 10,
   "id": "69406da8-37ea-4f76-91eb-b62767088a5e",
   "metadata": {},
   "outputs": [],
   "source": [
    "import matplotlib.pyplot as plt\n",
    "\n",
    "ratings = df['Score'].value_counts()\n",
    "\n"
   ]
  },
  {
   "cell_type": "code",
   "execution_count": 11,
   "id": "ed7e5a88-be97-4b2c-b1f3-7e6360803c28",
   "metadata": {},
   "outputs": [
    {
     "data": {
      "text/plain": [
       "5.0    3134\n",
       "4.0     711\n",
       "1.0     470\n",
       "3.0     395\n",
       "2.0     290\n",
       "Name: Score, dtype: int64"
      ]
     },
     "execution_count": 11,
     "metadata": {},
     "output_type": "execute_result"
    }
   ],
   "source": [
    "ratings"
   ]
  },
  {
   "cell_type": "code",
   "execution_count": 12,
   "id": "13f20eeb-d406-40d9-8b2a-8326bb91877a",
   "metadata": {},
   "outputs": [],
   "source": [
    "\n",
    "custom_colors = [\"skyblue\", \"yellowgreen\", 'tomato', \"blue\", \"red\"]\n",
    "# numbers = ratings.index.to_numpy()\n",
    "# quantity = ratings.to_numpy()\n",
    "\n",
    "numbers, quantity = zip(*ratings.items())"
   ]
  },
  {
   "cell_type": "code",
   "execution_count": 13,
   "id": "2d966003-b850-4aba-8e5d-27be872efaa1",
   "metadata": {},
   "outputs": [
    {
     "data": {
      "text/plain": [
       "(5.0, 4.0, 1.0, 3.0, 2.0)"
      ]
     },
     "execution_count": 13,
     "metadata": {},
     "output_type": "execute_result"
    }
   ],
   "source": [
    "numbers"
   ]
  },
  {
   "cell_type": "code",
   "execution_count": 14,
   "id": "6875c232-a941-4dd2-8bf0-6bfbb0a0ea1d",
   "metadata": {},
   "outputs": [
    {
     "data": {
      "text/plain": [
       "(3134, 711, 470, 395, 290)"
      ]
     },
     "execution_count": 14,
     "metadata": {},
     "output_type": "execute_result"
    }
   ],
   "source": [
    "quantity"
   ]
  },
  {
   "cell_type": "code",
   "execution_count": 15,
   "id": "0056e675-eae9-470e-8899-c98d81a54fbe",
   "metadata": {},
   "outputs": [
    {
     "data": {
      "image/png": "[encoded data removed]",
      "text/plain": [
       "<Figure size 1000x800 with 1 Axes>"
      ]
     },
     "metadata": {},
     "output_type": "display_data"
    }
   ],
   "source": [
    "plt.figure(figsize=(10, 8))\n",
    "plt.pie(quantity, labels=numbers, colors=custom_colors)\n",
    "central_circle = plt.Circle((0, 0), 0.5, color='white')\n",
    "fig = plt.gcf()\n",
    "fig.gca().add_artist(central_circle)\n",
    "plt.rc('font', size=12)\n",
    "plt.title(\"Distribution of Amazon Product Ratings\", fontsize=20)\n",
    "plt.show()\n",
    "#--- Inspect data ---"
   ]
  },
  {
   "cell_type": "code",
   "execution_count": 16,
   "id": "86f00cb7-5860-4af7-af5f-610dc9674d9f",
   "metadata": {},
   "outputs": [],
   "source": [
    "# #Uncommented the below code and run once. After the code is excecuted, please commented the below code\n",
    "# import nltk\n",
    "# nltk.download('vader_lexicon')"
   ]
  },
  {
   "cell_type": "code",
   "execution_count": 21,
   "id": "9a62d684-5c49-4c6f-a724-acb7b823c880",
   "metadata": {},
   "outputs": [],
   "source": [
    "from nltk.sentiment.vader import SentimentIntensityAnalyzer\n",
    "sentiments = SentimentIntensityAnalyzer()\n",
    "#--- WRITE YOUR CODE FOR TASK 4 ---\n",
    "\n",
    "# sentiment_scores = df['Text'].apply(lambda x: sentiments.polarity_scores(x))\n",
    "# #df[['Positive', 'Negative', 'Neutral']] = sentiment_scores.tolist()\n",
    "\n",
    "\n",
    "# df[['Positive', 'Negative', 'Neutral']] = df['Text'].apply(lambda x: sentiments.polarity_scores(x).values())\n",
    "\n",
    "\n",
    "# #--- Inspect data ---\n",
    "\n",
    "\n",
    "df['Positive'] = df['Text'].apply(lambda x: sentiments.polarity_scores(x)['pos'])\n",
    "df['Negative'] = df['Text'].apply(lambda x: sentiments.polarity_scores(x)['neg'])\n",
    "df['Neutral'] = df['Text'].apply(lambda x: sentiments.polarity_scores(x)['neu'])"
   ]
  },
  {
   "cell_type": "code",
   "execution_count": 22,
   "id": "74fdf998-8118-4702-9a35-5b95daf98516",
   "metadata": {},
   "outputs": [
    {
     "name": "stdout",
     "output_type": "stream",
     "text": [
      "<class 'pandas.core.frame.DataFrame'>\n",
      "Int64Index: 5000 entries, 0 to 5002\n",
      "Data columns (total 13 columns):\n",
      " #   Column                  Non-Null Count  Dtype  \n",
      "---  ------                  --------------  -----  \n",
      " 0   Id                      5000 non-null   int64  \n",
      " 1   ProductId               5000 non-null   object \n",
      " 2   UserId                  5000 non-null   object \n",
      " 3   ProfileName             5000 non-null   object \n",
      " 4   HelpfulnessNumerator    5000 non-null   int64  \n",
      " 5   HelpfulnessDenominator  5000 non-null   int64  \n",
      " 6   Score                   5000 non-null   float64\n",
      " 7   Time                    5000 non-null   int64  \n",
      " 8   Summary                 5000 non-null   object \n",
      " 9   Text                    5000 non-null   object \n",
      " 10  Positive                5000 non-null   float64\n",
      " 11  Negative                5000 non-null   float64\n",
      " 12  Neutral                 5000 non-null   float64\n",
      "dtypes: float64(4), int64(4), object(5)\n",
      "memory usage: 546.9+ KB\n"
     ]
    }
   ],
   "source": [
    "df.info()"
   ]
  },
  {
   "cell_type": "code",
   "execution_count": 24,
   "id": "80b8f70d-4876-4680-99d3-7c0ce3c17933",
   "metadata": {},
   "outputs": [],
   "source": [
    "x = df['Positive'].sum()\n",
    "y = df['Negative'].sum()\n",
    "z = df['Neutral'].sum()"
   ]
  },
  {
   "cell_type": "code",
   "execution_count": 25,
   "id": "66fff224-720c-404f-9938-251eb90f1db4",
   "metadata": {},
   "outputs": [
    {
     "name": "stdout",
     "output_type": "stream",
     "text": [
      "The overall sentiment is: Neutral\n"
     ]
    }
   ],
   "source": [
    "# Determine sentiment\n",
    "if x > y and x > z:\n",
    "  sentiment = \"Positive\"\n",
    "elif y > x and y > z:\n",
    "  sentiment = \"Negative\"\n",
    "else:\n",
    "  sentiment = \"Neutral\"\n",
    "\n",
    "# Print the sentiment\n",
    "print(f\"The overall sentiment is: {sentiment}\")"
   ]
  }
 ],
 "metadata": {
  "kernelspec": {
   "display_name": "Python 3 (ipykernel)",
   "language": "python",
   "name": "python3"
  },
  "language_info": {
   "codemirror_mode": {
    "name": "ipython",
    "version": 3
   },
   "file_extension": ".py",
   "mimetype": "text/x-python",
   "name": "python",
   "nbconvert_exporter": "python",
   "pygments_lexer": "ipython3",
   "version": "3.10.10"
  }
 },
 "nbformat": 4,
 "nbformat_minor": 5
}
